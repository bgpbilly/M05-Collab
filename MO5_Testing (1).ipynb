{
 "cells": [
  {
   "cell_type": "code",
   "execution_count": null,
   "id": "10e7b38e-8fbf-4f73-b68e-a05a0e6b78bc",
   "metadata": {},
   "outputs": [],
   "source": [
    "\"\"\"M05 Testing\n",
    "    Billy Parrish\"\"\""
   ]
  },
  {
   "cell_type": "code",
   "execution_count": null,
   "id": "21d75eb1-b444-4632-874e-2e72f87682c7",
   "metadata": {},
   "outputs": [],
   "source": [
    "def sum(arg):\n",
    "    total = 0\n",
    "    for val in arg:\n",
    "        total += val\n",
    "    return total\n"
   ]
  },
  {
   "cell_type": "code",
   "execution_count": null,
   "id": "29c04b34-42f7-4fc4-8392-e8d6a49abb0f",
   "metadata": {},
   "outputs": [],
   "source": [
    "import unittest\n",
    "\n",
    "from my_sum import sum\n",
    "\n",
    "class TestSum(unittest.TestCase):\n",
    "    def test_list_int(self):\n",
    "\n",
    "        data = [1,2,3]\n",
    "        results = sum(data)\n",
    "        self. assertEqual(result, 6)\n",
    "\n",
    "if __name__ == '__main__':\n",
    "    unittest.main()\n"
   ]
  },
  {
   "cell_type": "code",
   "execution_count": null,
   "id": "977fc07d-6c77-44ad-851c-6efb81382d1b",
   "metadata": {},
   "outputs": [],
   "source": [
    "\"When the test ran in VSCode it stated that it ran the test in 0000 seconds and it said ok. \n",
    "    Those results mean that the test was a success and the assertEqual was correct in the sum of the data being eqaul to 6.\"\n"
   ]
  }
 ],
 "metadata": {
  "kernelspec": {
   "display_name": "Python 3 (ipykernel)",
   "language": "python",
   "name": "python3"
  },
  "language_info": {
   "name": ""
  }
 },
 "nbformat": 4,
 "nbformat_minor": 5
}
